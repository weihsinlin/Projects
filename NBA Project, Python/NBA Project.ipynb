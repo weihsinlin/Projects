{
 "cells": [
  {
   "cell_type": "code",
   "execution_count": 13,
   "metadata": {},
   "outputs": [],
   "source": [
    "# Run this cell to set up the notebook, but please don't change it.\n",
    "\n",
    "import numpy as np\n",
    "import math\n",
    "from datascience import *\n",
    "\n",
    "# These lines set up the plotting functionality and formatting.\n",
    "import matplotlib\n",
    "matplotlib.use('Agg', warn=False)\n",
    "%matplotlib inline\n",
    "import matplotlib.pyplot as plots\n",
    "plots.style.use('fivethirtyeight')\n",
    "import warnings\n",
    "warnings.simplefilter(action=\"ignore\", category=FutureWarning)\n"
   ]
  },
  {
   "cell_type": "markdown",
   "metadata": {},
   "source": [
    "# Data Preparation "
   ]
  },
  {
   "cell_type": "markdown",
   "metadata": {},
   "source": [
    "## Salary Data"
   ]
  },
  {
   "cell_type": "code",
   "execution_count": 14,
   "metadata": {},
   "outputs": [
    {
     "data": {
      "text/html": [
       "<table border=\"1\" class=\"dataframe\">\n",
       "    <thead>\n",
       "        <tr>\n",
       "            <th>PLAYER</th> <th>POSITION</th> <th>TEAM</th> <th>'15-'16 SALARY</th>\n",
       "        </tr>\n",
       "    </thead>\n",
       "    <tbody>\n",
       "        <tr>\n",
       "            <td>Paul Millsap  </td> <td>PF      </td> <td>Atlanta Hawks</td> <td>18.6717       </td>\n",
       "        </tr>\n",
       "    </tbody>\n",
       "        <tr>\n",
       "            <td>Al Horford    </td> <td>C       </td> <td>Atlanta Hawks</td> <td>12            </td>\n",
       "        </tr>\n",
       "    </tbody>\n",
       "        <tr>\n",
       "            <td>Tiago Splitter</td> <td>C       </td> <td>Atlanta Hawks</td> <td>9.75625       </td>\n",
       "        </tr>\n",
       "    </tbody>\n",
       "</table>\n",
       "<p>... (414 rows omitted)</p"
      ],
      "text/plain": [
       "<IPython.core.display.HTML object>"
      ]
     },
     "metadata": {},
     "output_type": "display_data"
    },
    {
     "data": {
      "text/html": [
       "<table border=\"1\" class=\"dataframe\">\n",
       "    <thead>\n",
       "        <tr>\n",
       "            <th>Rk</th> <th>Team</th> <th>2017-18</th> <th>2018-19</th> <th>2019-20</th> <th>2020-21</th> <th>2021-22</th> <th>2022-23</th>\n",
       "        </tr>\n",
       "    </thead>\n",
       "    <tbody>\n",
       "        <tr>\n",
       "            <td>1   </td> <td>Golden State Warriors</td> <td>$137494845</td> <td>$128341465</td> <td>$85953438</td> <td>$43006362</td> <td>$45780966</td> <td>nan      </td>\n",
       "        </tr>\n",
       "    </tbody>\n",
       "        <tr>\n",
       "            <td>2   </td> <td>Cleveland Cavaliers  </td> <td>$137082833</td> <td>$122521377</td> <td>$80319306</td> <td>$3872215 </td> <td>nan      </td> <td>nan      </td>\n",
       "        </tr>\n",
       "    </tbody>\n",
       "        <tr>\n",
       "            <td>3   </td> <td>Oklahoma City Thunder</td> <td>$134294056</td> <td>$137538745</td> <td>$88281978</td> <td>$72478103</td> <td>$43848000</td> <td>$46662000</td>\n",
       "        </tr>\n",
       "    </tbody>\n",
       "</table>\n",
       "<p>... (27 rows omitted)</p"
      ],
      "text/plain": [
       "<IPython.core.display.HTML object>"
      ]
     },
     "metadata": {},
     "output_type": "display_data"
    }
   ],
   "source": [
    "# Data from textbook\n",
    "nba_15_16 = Table.read_table('http://inferentialthinking.com/notebooks/nba_salaries.csv')\n",
    "nba_15_16.show(3)\n",
    "# From http://www.basketball-reference.com/contracts/\n",
    "nba_after_16 = Table.read_table('nba_salary.csv')\n",
    "nba_after_16.show(3)"
   ]
  },
  {
   "cell_type": "code",
   "execution_count": 15,
   "metadata": {
    "scrolled": false
   },
   "outputs": [
    {
     "data": {
      "text/html": [
       "<table border=\"1\" class=\"dataframe\">\n",
       "    <thead>\n",
       "        <tr>\n",
       "            <th>TEAM</th> <th>'15-'16 SALARY sum</th>\n",
       "        </tr>\n",
       "    </thead>\n",
       "    <tbody>\n",
       "        <tr>\n",
       "            <td>Atlanta Hawks </td> <td>69.5731           </td>\n",
       "        </tr>\n",
       "    </tbody>\n",
       "        <tr>\n",
       "            <td>Boston Celtics</td> <td>50.2855           </td>\n",
       "        </tr>\n",
       "    </tbody>\n",
       "        <tr>\n",
       "            <td>Brooklyn Nets </td> <td>57.307            </td>\n",
       "        </tr>\n",
       "    </tbody>\n",
       "</table>\n",
       "<p>... (27 rows omitted)</p"
      ],
      "text/plain": [
       "<IPython.core.display.HTML object>"
      ]
     },
     "metadata": {},
     "output_type": "display_data"
    },
    {
     "data": {
      "text/html": [
       "<table border=\"1\" class=\"dataframe\">\n",
       "    <thead>\n",
       "        <tr>\n",
       "            <th>TEAM</th> <th>'15-'16 SALARY sum</th> <th>2018-19</th>\n",
       "        </tr>\n",
       "    </thead>\n",
       "    <tbody>\n",
       "        <tr>\n",
       "            <td>Atlanta Hawks </td> <td>69.5731           </td> <td>$70622817 </td>\n",
       "        </tr>\n",
       "    </tbody>\n",
       "        <tr>\n",
       "            <td>Boston Celtics</td> <td>50.2855           </td> <td>$107433526</td>\n",
       "        </tr>\n",
       "    </tbody>\n",
       "        <tr>\n",
       "            <td>Brooklyn Nets </td> <td>57.307            </td> <td>$86278705 </td>\n",
       "        </tr>\n",
       "    </tbody>\n",
       "</table>\n",
       "<p>... (27 rows omitted)</p"
      ],
      "text/plain": [
       "<IPython.core.display.HTML object>"
      ]
     },
     "metadata": {},
     "output_type": "display_data"
    }
   ],
   "source": [
    "nba_salary_15_16 = nba_15_16.drop(0, 1).group('TEAM', sum)\n",
    "nba_salary_15_16.show(3)\n",
    "nba_salary0 = nba_salary_15_16.join('TEAM', nba_after_16, 'Team')\n",
    "nba_salary0 = nba_salary0.select(0, 1, 4)\n",
    "nba_salary0.show(3)"
   ]
  },
  {
   "cell_type": "code",
   "execution_count": 16,
   "metadata": {},
   "outputs": [],
   "source": [
    "def remove_first_convert_int(string): \n",
    "    \"\"\"Remove the first character of a string and convert it to integer. \"\"\"\n",
    "    return int(string[1:])"
   ]
  },
  {
   "cell_type": "code",
   "execution_count": 17,
   "metadata": {},
   "outputs": [
    {
     "data": {
      "text/html": [
       "<table border=\"1\" class=\"dataframe\">\n",
       "    <thead>\n",
       "        <tr>\n",
       "            <th>Team</th> <th>15-16 Salary</th> <th>16-17 Salary</th>\n",
       "        </tr>\n",
       "    </thead>\n",
       "    <tbody>\n",
       "        <tr>\n",
       "            <td>Atlanta Hawks        </td> <td>69.5731     </td> <td>70.6228     </td>\n",
       "        </tr>\n",
       "    </tbody>\n",
       "        <tr>\n",
       "            <td>Boston Celtics       </td> <td>50.2855     </td> <td>107.434     </td>\n",
       "        </tr>\n",
       "    </tbody>\n",
       "        <tr>\n",
       "            <td>Brooklyn Nets        </td> <td>57.307      </td> <td>86.2787     </td>\n",
       "        </tr>\n",
       "    </tbody>\n",
       "        <tr>\n",
       "            <td>Charlotte Hornets    </td> <td>84.1024     </td> <td>118.033     </td>\n",
       "        </tr>\n",
       "    </tbody>\n",
       "        <tr>\n",
       "            <td>Chicago Bulls        </td> <td>78.8209     </td> <td>62.2379     </td>\n",
       "        </tr>\n",
       "    </tbody>\n",
       "        <tr>\n",
       "            <td>Cleveland Cavaliers  </td> <td>102.312     </td> <td>122.521     </td>\n",
       "        </tr>\n",
       "    </tbody>\n",
       "        <tr>\n",
       "            <td>Dallas Mavericks     </td> <td>65.7626     </td> <td>69.61       </td>\n",
       "        </tr>\n",
       "    </tbody>\n",
       "        <tr>\n",
       "            <td>Denver Nuggets       </td> <td>62.4294     </td> <td>111.77      </td>\n",
       "        </tr>\n",
       "    </tbody>\n",
       "        <tr>\n",
       "            <td>Detroit Pistons      </td> <td>42.2118     </td> <td>106.08      </td>\n",
       "        </tr>\n",
       "    </tbody>\n",
       "        <tr>\n",
       "            <td>Golden State Warriors</td> <td>94.0851     </td> <td>128.341     </td>\n",
       "        </tr>\n",
       "    </tbody>\n",
       "</table>\n",
       "<p>... (20 rows omitted)</p"
      ],
      "text/plain": [
       "Team                  | 15-16 Salary | 16-17 Salary\n",
       "Atlanta Hawks         | 69.5731      | 70.6228\n",
       "Boston Celtics        | 50.2855      | 107.434\n",
       "Brooklyn Nets         | 57.307       | 86.2787\n",
       "Charlotte Hornets     | 84.1024      | 118.033\n",
       "Chicago Bulls         | 78.8209      | 62.2379\n",
       "Cleveland Cavaliers   | 102.312      | 122.521\n",
       "Dallas Mavericks      | 65.7626      | 69.61\n",
       "Denver Nuggets        | 62.4294      | 111.77\n",
       "Detroit Pistons       | 42.2118      | 106.08\n",
       "Golden State Warriors | 94.0851      | 128.341\n",
       "... (20 rows omitted)"
      ]
     },
     "execution_count": 17,
     "metadata": {},
     "output_type": "execute_result"
    }
   ],
   "source": [
    "#Convert everything to the same unit and from string to integer\n",
    "#Salary in million \n",
    "nba_salary = Table().with_columns(\n",
    "    'Team', nba_salary0.column('TEAM'), \n",
    "    '15-16 Salary', nba_salary0.column(1), \n",
    "    '16-17 Salary', nba_salary0.apply(remove_first_convert_int, 2) / 1e6\n",
    ")\n",
    "nba_salary"
   ]
  },
  {
   "cell_type": "markdown",
   "metadata": {},
   "source": [
    "## Records Data"
   ]
  },
  {
   "cell_type": "code",
   "execution_count": 18,
   "metadata": {},
   "outputs": [
    {
     "data": {
      "text/html": [
       "<table border=\"1\" class=\"dataframe\">\n",
       "    <thead>\n",
       "        <tr>\n",
       "            <th>Rk</th> <th>Team</th> <th>Overall</th> <th>Home</th> <th>Road</th> <th>E</th> <th>W</th> <th>A</th> <th>C</th> <th>SE</th> <th>NW</th> <th>P</th> <th>SW</th> <th>Pre</th> <th>Post</th> <th>≤3</th> <th>≥10</th> <th>Oct</th> <th>Nov</th> <th>Dec</th> <th>Jan</th> <th>Feb</th> <th>Mar</th> <th>Apr</th>\n",
       "        </tr>\n",
       "    </thead>\n",
       "    <tbody>\n",
       "        <tr>\n",
       "            <td>1   </td> <td>Golden State Warriors</td> <td>73-9   </td> <td>39-2</td> <td>34-7 </td> <td>27-3 </td> <td>46-6</td> <td>9-1 </td> <td>8-2 </td> <td>10-0</td> <td>15-3</td> <td>15-1</td> <td>16-2</td> <td>48-4 </td> <td>25-5 </td> <td>7-2 </td> <td>44-5</td> <td>3-0 </td> <td>16-0</td> <td>11-2</td> <td>14-2</td> <td>9-1 </td> <td>15-2</td> <td>5-2 </td>\n",
       "        </tr>\n",
       "    </tbody>\n",
       "        <tr>\n",
       "            <td>2   </td> <td>San Antonio Spurs    </td> <td>67-15  </td> <td>40-1</td> <td>27-14</td> <td>24-6 </td> <td>43-9</td> <td>9-1 </td> <td>7-3 </td> <td>8-2 </td> <td>15-3</td> <td>14-4</td> <td>14-2</td> <td>45-8 </td> <td>22-7 </td> <td>4-4 </td> <td>44-6</td> <td>1-1 </td> <td>13-3</td> <td>14-2</td> <td>11-2</td> <td>11-1</td> <td>13-3</td> <td>4-3 </td>\n",
       "        </tr>\n",
       "    </tbody>\n",
       "        <tr>\n",
       "            <td>3   </td> <td>Cleveland Cavaliers  </td> <td>57-25  </td> <td>33-8</td> <td>24-17</td> <td>35-17</td> <td>22-8</td> <td>14-4</td> <td>8-8 </td> <td>13-5</td> <td>8-2 </td> <td>8-2 </td> <td>6-4 </td> <td>38-14</td> <td>19-11</td> <td>4-7 </td> <td>32-8</td> <td>2-1 </td> <td>11-3</td> <td>8-5 </td> <td>13-3</td> <td>8-5 </td> <td>11-5</td> <td>4-3 </td>\n",
       "        </tr>\n",
       "    </tbody>\n",
       "</table>\n",
       "<p>... (27 rows omitted)</p"
      ],
      "text/plain": [
       "<IPython.core.display.HTML object>"
      ]
     },
     "metadata": {},
     "output_type": "display_data"
    },
    {
     "data": {
      "text/html": [
       "<table border=\"1\" class=\"dataframe\">\n",
       "    <thead>\n",
       "        <tr>\n",
       "            <th>Rk</th> <th>Team</th> <th>Overall</th> <th>Home</th> <th>Road</th> <th>E</th> <th>W</th> <th>A</th> <th>C</th> <th>SE</th> <th>NW</th> <th>P</th> <th>SW</th> <th>Pre</th> <th>Post</th> <th>≤3</th> <th>≥10</th> <th>Oct</th> <th>Nov</th> <th>Dec</th> <th>Jan</th> <th>Feb</th> <th>Mar</th> <th>Apr</th>\n",
       "        </tr>\n",
       "    </thead>\n",
       "    <tbody>\n",
       "        <tr>\n",
       "            <td>1   </td> <td>Golden State Warriors</td> <td>67-15  </td> <td>36-5 </td> <td>31-10</td> <td>25-5 </td> <td>42-10</td> <td>9-1 </td> <td>8-2 </td> <td>8-2 </td> <td>15-3</td> <td>14-2</td> <td>13-5</td> <td>47-9 </td> <td>20-6</td> <td>3-4 </td> <td>48-6 </td> <td>2-1 </td> <td>14-1</td> <td>13-3</td> <td>12-2</td> <td>9-3 </td> <td>12-4</td> <td>5-1 </td>\n",
       "        </tr>\n",
       "    </tbody>\n",
       "        <tr>\n",
       "            <td>2   </td> <td>San Antonio Spurs    </td> <td>61-21  </td> <td>31-10</td> <td>30-11</td> <td>25-5 </td> <td>36-16</td> <td>9-1 </td> <td>8-2 </td> <td>8-2 </td> <td>13-5</td> <td>12-6</td> <td>11-5</td> <td>43-13</td> <td>18-8</td> <td>8-5 </td> <td>30-8 </td> <td>4-0 </td> <td>11-4</td> <td>12-2</td> <td>10-5</td> <td>8-2 </td> <td>13-4</td> <td>3-4 </td>\n",
       "        </tr>\n",
       "    </tbody>\n",
       "        <tr>\n",
       "            <td>3   </td> <td>Houston Rockets      </td> <td>55-27  </td> <td>30-11</td> <td>25-16</td> <td>19-11</td> <td>36-16</td> <td>8-2 </td> <td>5-5 </td> <td>6-4 </td> <td>13-5</td> <td>13-5</td> <td>10-6</td> <td>40-18</td> <td>15-9</td> <td>8-3 </td> <td>30-11</td> <td>2-1 </td> <td>9-6 </td> <td>15-2</td> <td>10-7</td> <td>6-3 </td> <td>9-6 </td> <td>4-2 </td>\n",
       "        </tr>\n",
       "    </tbody>\n",
       "</table>\n",
       "<p>... (27 rows omitted)</p"
      ],
      "text/plain": [
       "<IPython.core.display.HTML object>"
      ]
     },
     "metadata": {},
     "output_type": "display_data"
    }
   ],
   "source": [
    "# From http://www.basketball-reference.com/leagues/NBA_2016_standings.html\n",
    "records_15_16 = Table.read_table('records_15_16.csv')\n",
    "records_15_16.show(3)\n",
    "# From http://www.basketball-reference.com/leagues/NBA_2017_standings.html\n",
    "records_16_17 = Table.read_table('records_16_17.csv')\n",
    "records_16_17.show(3)"
   ]
  },
  {
   "cell_type": "code",
   "execution_count": 19,
   "metadata": {},
   "outputs": [],
   "source": [
    "# Functions to extract wins and losses\n",
    "wins_func = lambda string: int(string[:2]) \n",
    "losses_func = lambda string: int(string[3:])"
   ]
  },
  {
   "cell_type": "code",
   "execution_count": 20,
   "metadata": {},
   "outputs": [
    {
     "data": {
      "text/html": [
       "<table border=\"1\" class=\"dataframe\">\n",
       "    <thead>\n",
       "        <tr>\n",
       "            <th>Team</th> <th>Wins 15-16</th> <th>Losses 15-16</th>\n",
       "        </tr>\n",
       "    </thead>\n",
       "    <tbody>\n",
       "        <tr>\n",
       "            <td>Golden State Warriors</td> <td>73        </td> <td>9           </td>\n",
       "        </tr>\n",
       "    </tbody>\n",
       "        <tr>\n",
       "            <td>San Antonio Spurs    </td> <td>67        </td> <td>15          </td>\n",
       "        </tr>\n",
       "    </tbody>\n",
       "        <tr>\n",
       "            <td>Cleveland Cavaliers  </td> <td>57        </td> <td>25          </td>\n",
       "        </tr>\n",
       "    </tbody>\n",
       "</table>\n",
       "<p>... (27 rows omitted)</p"
      ],
      "text/plain": [
       "<IPython.core.display.HTML object>"
      ]
     },
     "metadata": {},
     "output_type": "display_data"
    },
    {
     "data": {
      "text/html": [
       "<table border=\"1\" class=\"dataframe\">\n",
       "    <thead>\n",
       "        <tr>\n",
       "            <th>Team</th> <th>Wins 16-17</th> <th>Losses 16-17</th>\n",
       "        </tr>\n",
       "    </thead>\n",
       "    <tbody>\n",
       "        <tr>\n",
       "            <td>Golden State Warriors</td> <td>67        </td> <td>15          </td>\n",
       "        </tr>\n",
       "    </tbody>\n",
       "        <tr>\n",
       "            <td>San Antonio Spurs    </td> <td>61        </td> <td>21          </td>\n",
       "        </tr>\n",
       "    </tbody>\n",
       "        <tr>\n",
       "            <td>Houston Rockets      </td> <td>55        </td> <td>27          </td>\n",
       "        </tr>\n",
       "    </tbody>\n",
       "</table>\n",
       "<p>... (27 rows omitted)</p"
      ],
      "text/plain": [
       "<IPython.core.display.HTML object>"
      ]
     },
     "metadata": {},
     "output_type": "display_data"
    },
    {
     "data": {
      "text/html": [
       "<table border=\"1\" class=\"dataframe\">\n",
       "    <thead>\n",
       "        <tr>\n",
       "            <th>Team</th> <th>Wins 15-16</th> <th>Losses 15-16</th> <th>Wins 16-17</th> <th>Losses 16-17</th>\n",
       "        </tr>\n",
       "    </thead>\n",
       "    <tbody>\n",
       "        <tr>\n",
       "            <td>Atlanta Hawks        </td> <td>48        </td> <td>34          </td> <td>43        </td> <td>39          </td>\n",
       "        </tr>\n",
       "    </tbody>\n",
       "        <tr>\n",
       "            <td>Boston Celtics       </td> <td>48        </td> <td>34          </td> <td>53        </td> <td>29          </td>\n",
       "        </tr>\n",
       "    </tbody>\n",
       "        <tr>\n",
       "            <td>Brooklyn Nets        </td> <td>21        </td> <td>61          </td> <td>20        </td> <td>62          </td>\n",
       "        </tr>\n",
       "    </tbody>\n",
       "        <tr>\n",
       "            <td>Charlotte Hornets    </td> <td>48        </td> <td>34          </td> <td>36        </td> <td>46          </td>\n",
       "        </tr>\n",
       "    </tbody>\n",
       "        <tr>\n",
       "            <td>Chicago Bulls        </td> <td>42        </td> <td>40          </td> <td>41        </td> <td>41          </td>\n",
       "        </tr>\n",
       "    </tbody>\n",
       "        <tr>\n",
       "            <td>Cleveland Cavaliers  </td> <td>57        </td> <td>25          </td> <td>51        </td> <td>31          </td>\n",
       "        </tr>\n",
       "    </tbody>\n",
       "        <tr>\n",
       "            <td>Dallas Mavericks     </td> <td>42        </td> <td>40          </td> <td>33        </td> <td>49          </td>\n",
       "        </tr>\n",
       "    </tbody>\n",
       "        <tr>\n",
       "            <td>Denver Nuggets       </td> <td>33        </td> <td>49          </td> <td>40        </td> <td>42          </td>\n",
       "        </tr>\n",
       "    </tbody>\n",
       "        <tr>\n",
       "            <td>Detroit Pistons      </td> <td>44        </td> <td>38          </td> <td>37        </td> <td>45          </td>\n",
       "        </tr>\n",
       "    </tbody>\n",
       "        <tr>\n",
       "            <td>Golden State Warriors</td> <td>73        </td> <td>9           </td> <td>67        </td> <td>15          </td>\n",
       "        </tr>\n",
       "    </tbody>\n",
       "</table>\n",
       "<p>... (20 rows omitted)</p"
      ],
      "text/plain": [
       "Team                  | Wins 15-16 | Losses 15-16 | Wins 16-17 | Losses 16-17\n",
       "Atlanta Hawks         | 48         | 34           | 43         | 39\n",
       "Boston Celtics        | 48         | 34           | 53         | 29\n",
       "Brooklyn Nets         | 21         | 61           | 20         | 62\n",
       "Charlotte Hornets     | 48         | 34           | 36         | 46\n",
       "Chicago Bulls         | 42         | 40           | 41         | 41\n",
       "Cleveland Cavaliers   | 57         | 25           | 51         | 31\n",
       "Dallas Mavericks      | 42         | 40           | 33         | 49\n",
       "Denver Nuggets        | 33         | 49           | 40         | 42\n",
       "Detroit Pistons       | 44         | 38           | 37         | 45\n",
       "Golden State Warriors | 73         | 9            | 67         | 15\n",
       "... (20 rows omitted)"
      ]
     },
     "execution_count": 20,
     "metadata": {},
     "output_type": "execute_result"
    }
   ],
   "source": [
    "wins_15_16 = records_15_16.apply(wins_func, 2)\n",
    "losses_15_16 = records_15_16.apply(losses_func, 2)\n",
    "records_15_16_0 = records_15_16.select('Team').with_columns('Wins 15-16', wins_15_16, 'Losses 15-16', losses_15_16)\n",
    "records_15_16_0.show(3)\n",
    "\n",
    "wins_16_17 = records_16_17.apply(wins_func, 2)\n",
    "losses_16_17 = records_16_17.apply(losses_func, 2)\n",
    "records_16_17_0 = records_16_17.select('Team').with_columns('Wins 16-17', wins_16_17, 'Losses 16-17', losses_16_17)\n",
    "records_16_17_0.show(3)\n",
    "\n",
    "records = records_15_16_0.join('Team', records_16_17_0)\n",
    "records"
   ]
  },
  {
   "cell_type": "markdown",
   "metadata": {},
   "source": [
    "## Data for Use"
   ]
  },
  {
   "cell_type": "markdown",
   "metadata": {},
   "source": [
    "The table below contains all NBA teams with their wins and losses during regular season (excludes playoff) and the total expend for salary in that season. The data includes 15-16 season and 16-17 season. "
   ]
  },
  {
   "cell_type": "code",
   "execution_count": 21,
   "metadata": {},
   "outputs": [
    {
     "data": {
      "text/html": [
       "<table border=\"1\" class=\"dataframe\">\n",
       "    <thead>\n",
       "        <tr>\n",
       "            <th>Team</th> <th>Wins 15-16</th> <th>Losses 15-16</th> <th>15-16 Salary</th> <th>Wins 16-17</th> <th>Losses 16-17</th> <th>16-17 Salary</th>\n",
       "        </tr>\n",
       "    </thead>\n",
       "    <tbody>\n",
       "        <tr>\n",
       "            <td>Atlanta Hawks </td> <td>48        </td> <td>34          </td> <td>69.5731     </td> <td>43        </td> <td>39          </td> <td>70.6228     </td>\n",
       "        </tr>\n",
       "    </tbody>\n",
       "        <tr>\n",
       "            <td>Boston Celtics</td> <td>48        </td> <td>34          </td> <td>50.2855     </td> <td>53        </td> <td>29          </td> <td>107.434     </td>\n",
       "        </tr>\n",
       "    </tbody>\n",
       "        <tr>\n",
       "            <td>Brooklyn Nets </td> <td>21        </td> <td>61          </td> <td>57.307      </td> <td>20        </td> <td>62          </td> <td>86.2787     </td>\n",
       "        </tr>\n",
       "    </tbody>\n",
       "</table>\n",
       "<p>... (27 rows omitted)</p"
      ],
      "text/plain": [
       "<IPython.core.display.HTML object>"
      ]
     },
     "metadata": {},
     "output_type": "display_data"
    }
   ],
   "source": [
    "nba = records.join('Team', nba_salary)\n",
    "nba = nba.select(0, 1, 2, 5, 3, 4, 6)\n",
    "nba.show(3)"
   ]
  },
  {
   "cell_type": "markdown",
   "metadata": {},
   "source": [
    "# Data Visualization"
   ]
  },
  {
   "cell_type": "markdown",
   "metadata": {},
   "source": [
    "The scatter plots below show the relationship between salary spends in a particular season correspond to numbers of wins. \n",
    "By looking at the plots, it seems like there is a positive linear association between salary and number of wins. Namely, if a team pays more for good players, the team is likely to win more games during the regular season. "
   ]
  },
  {
   "cell_type": "code",
   "execution_count": 22,
   "metadata": {},
   "outputs": [
    {
     "data": {
      "image/png": "[encoded data removed]",
      "text/plain": [
       "<matplotlib.figure.Figure at 0x7fd4463fe1d0>"
      ]
     },
     "metadata": {},
     "output_type": "display_data"
    },
    {
     "data": {
      "image/png": "[encoded data removed]",
      "text/plain": [
       "<matplotlib.figure.Figure at 0x7fd4463fe320>"
      ]
     },
     "metadata": {},
     "output_type": "display_data"
    }
   ],
   "source": [
    "nba.scatter(3, 1, fit_line=True)\n",
    "nba.scatter(6, 4, fit_line=True)"
   ]
  },
  {
   "cell_type": "markdown",
   "metadata": {},
   "source": [
    "The bar chart below shows the numbers of wins during 15-16 season and 16-17 season. \n",
    "By looking at the chart, we can see if a team's strength change or it's roughly the same. We can even go further to see the ranks of each season, or conduct a hypothesis test to see the change in wins is due to randon chance or a team actually improves. "
   ]
  },
  {
   "cell_type": "code",
   "execution_count": 23,
   "metadata": {},
   "outputs": [
    {
     "data": {
      "image/png": "[encoded data removed]",
      "text/plain": [
       "<matplotlib.figure.Figure at 0x7fd440a6e1d0>"
      ]
     },
     "metadata": {},
     "output_type": "display_data"
    }
   ],
   "source": [
    "nba.select(0, 1, 4).barh(0)"
   ]
  },
  {
   "cell_type": "markdown",
   "metadata": {},
   "source": [
    "# Data Exploration "
   ]
  },
  {
   "cell_type": "markdown",
   "metadata": {},
   "source": [
    "The two grouping tables below shows the wins and the mean of salary paid for players. We can see the trend that the number of wins increase, the average salary spend also increase although there are some special cases. "
   ]
  },
  {
   "cell_type": "code",
   "execution_count": 24,
   "metadata": {},
   "outputs": [
    {
     "data": {
      "text/html": [
       "<table border=\"1\" class=\"dataframe\">\n",
       "    <thead>\n",
       "        <tr>\n",
       "            <th>Wins 15-16</th> <th>15-16 Salary mean</th>\n",
       "        </tr>\n",
       "    </thead>\n",
       "    <tbody>\n",
       "        <tr>\n",
       "            <td>10        </td> <td>42.4813          </td>\n",
       "        </tr>\n",
       "    </tbody>\n",
       "        <tr>\n",
       "            <td>17        </td> <td>68.6079          </td>\n",
       "        </tr>\n",
       "    </tbody>\n",
       "        <tr>\n",
       "            <td>21        </td> <td>57.307           </td>\n",
       "        </tr>\n",
       "    </tbody>\n",
       "        <tr>\n",
       "            <td>23        </td> <td>50.5208          </td>\n",
       "        </tr>\n",
       "    </tbody>\n",
       "        <tr>\n",
       "            <td>29        </td> <td>65.8474          </td>\n",
       "        </tr>\n",
       "    </tbody>\n",
       "        <tr>\n",
       "            <td>30        </td> <td>80.5146          </td>\n",
       "        </tr>\n",
       "    </tbody>\n",
       "        <tr>\n",
       "            <td>32        </td> <td>69.405           </td>\n",
       "        </tr>\n",
       "    </tbody>\n",
       "        <tr>\n",
       "            <td>33        </td> <td>61.0242          </td>\n",
       "        </tr>\n",
       "    </tbody>\n",
       "        <tr>\n",
       "            <td>35        </td> <td>77.6239          </td>\n",
       "        </tr>\n",
       "    </tbody>\n",
       "        <tr>\n",
       "            <td>40        </td> <td>52.6319          </td>\n",
       "        </tr>\n",
       "    </tbody>\n",
       "        <tr>\n",
       "            <td>41        </td> <td>87.6667          </td>\n",
       "        </tr>\n",
       "    </tbody>\n",
       "        <tr>\n",
       "            <td>42        </td> <td>79.46            </td>\n",
       "        </tr>\n",
       "    </tbody>\n",
       "        <tr>\n",
       "            <td>44        </td> <td>43.8293          </td>\n",
       "        </tr>\n",
       "    </tbody>\n",
       "        <tr>\n",
       "            <td>45        </td> <td>62.695           </td>\n",
       "        </tr>\n",
       "    </tbody>\n",
       "        <tr>\n",
       "            <td>48        </td> <td>71.3724          </td>\n",
       "        </tr>\n",
       "    </tbody>\n",
       "        <tr>\n",
       "            <td>53        </td> <td>66.0741          </td>\n",
       "        </tr>\n",
       "    </tbody>\n",
       "        <tr>\n",
       "            <td>55        </td> <td>96.8322          </td>\n",
       "        </tr>\n",
       "    </tbody>\n",
       "        <tr>\n",
       "            <td>56        </td> <td>74.6726          </td>\n",
       "        </tr>\n",
       "    </tbody>\n",
       "        <tr>\n",
       "            <td>57        </td> <td>102.312          </td>\n",
       "        </tr>\n",
       "    </tbody>\n",
       "        <tr>\n",
       "            <td>67        </td> <td>84.6521          </td>\n",
       "        </tr>\n",
       "    </tbody>\n",
       "        <tr>\n",
       "            <td>73        </td> <td>94.0851          </td>\n",
       "        </tr>\n",
       "    </tbody>\n",
       "</table>"
      ],
      "text/plain": [
       "<IPython.core.display.HTML object>"
      ]
     },
     "metadata": {},
     "output_type": "display_data"
    },
    {
     "data": {
      "text/html": [
       "<table border=\"1\" class=\"dataframe\">\n",
       "    <thead>\n",
       "        <tr>\n",
       "            <th>Wins 16-17</th> <th>16-17 Salary mean</th>\n",
       "        </tr>\n",
       "    </thead>\n",
       "    <tbody>\n",
       "        <tr>\n",
       "            <td>20        </td> <td>86.2787          </td>\n",
       "        </tr>\n",
       "    </tbody>\n",
       "        <tr>\n",
       "            <td>24        </td> <td>79.9663          </td>\n",
       "        </tr>\n",
       "    </tbody>\n",
       "        <tr>\n",
       "            <td>26        </td> <td>53.9158          </td>\n",
       "        </tr>\n",
       "    </tbody>\n",
       "        <tr>\n",
       "            <td>28        </td> <td>70.5933          </td>\n",
       "        </tr>\n",
       "    </tbody>\n",
       "        <tr>\n",
       "            <td>29        </td> <td>84.5589          </td>\n",
       "        </tr>\n",
       "    </tbody>\n",
       "        <tr>\n",
       "            <td>31        </td> <td>108.45           </td>\n",
       "        </tr>\n",
       "    </tbody>\n",
       "        <tr>\n",
       "            <td>32        </td> <td>84.9291          </td>\n",
       "        </tr>\n",
       "    </tbody>\n",
       "        <tr>\n",
       "            <td>33        </td> <td>69.61            </td>\n",
       "        </tr>\n",
       "    </tbody>\n",
       "        <tr>\n",
       "            <td>34        </td> <td>94.8271          </td>\n",
       "        </tr>\n",
       "    </tbody>\n",
       "        <tr>\n",
       "            <td>36        </td> <td>118.033          </td>\n",
       "        </tr>\n",
       "    </tbody>\n",
       "        <tr>\n",
       "            <td>37        </td> <td>106.08           </td>\n",
       "        </tr>\n",
       "    </tbody>\n",
       "        <tr>\n",
       "            <td>40        </td> <td>111.77           </td>\n",
       "        </tr>\n",
       "    </tbody>\n",
       "        <tr>\n",
       "            <td>41        </td> <td>107.2            </td>\n",
       "        </tr>\n",
       "    </tbody>\n",
       "        <tr>\n",
       "            <td>42        </td> <td>97.4215          </td>\n",
       "        </tr>\n",
       "    </tbody>\n",
       "        <tr>\n",
       "            <td>43        </td> <td>86.9413          </td>\n",
       "        </tr>\n",
       "    </tbody>\n",
       "        <tr>\n",
       "            <td>47        </td> <td>137.539          </td>\n",
       "        </tr>\n",
       "    </tbody>\n",
       "        <tr>\n",
       "            <td>49        </td> <td>124.798          </td>\n",
       "        </tr>\n",
       "    </tbody>\n",
       "        <tr>\n",
       "            <td>51        </td> <td>111.178          </td>\n",
       "        </tr>\n",
       "    </tbody>\n",
       "        <tr>\n",
       "            <td>53        </td> <td>107.434          </td>\n",
       "        </tr>\n",
       "    </tbody>\n",
       "        <tr>\n",
       "            <td>55        </td> <td>80.4429          </td>\n",
       "        </tr>\n",
       "    </tbody>\n",
       "        <tr>\n",
       "            <td>61        </td> <td>99.4716          </td>\n",
       "        </tr>\n",
       "    </tbody>\n",
       "        <tr>\n",
       "            <td>67        </td> <td>128.341          </td>\n",
       "        </tr>\n",
       "    </tbody>\n",
       "</table>"
      ],
      "text/plain": [
       "<IPython.core.display.HTML object>"
      ]
     },
     "metadata": {},
     "output_type": "display_data"
    }
   ],
   "source": [
    "nba.select(1, 3).group('Wins 15-16', np.mean).show()\n",
    "nba.select(4, 6).group('Wins 16-17', np.mean).show()"
   ]
  },
  {
   "cell_type": "markdown",
   "metadata": {},
   "source": [
    "# Hypothesis Testing"
   ]
  },
  {
   "cell_type": "markdown",
   "metadata": {},
   "source": [
    "There is a question in my head. Do the strength of teams (number of wins) change from 15-16 season to 16-17 season? \n",
    "\n",
    "Null Hypothesis: The number of wins change from 15-16 season to 16-17 season is due to random chance. \n",
    "\n",
    "Alternative Hypothesis: The number of wins change from 15-16 season to 16-17 season is not due to random chance. \n",
    "\n",
    "Test Statistic: Mean of absolute value of winnings in 15-16 season minus winnings in 16-17 season. "
   ]
  },
  {
   "cell_type": "code",
   "execution_count": 25,
   "metadata": {},
   "outputs": [
    {
     "data": {
      "text/html": [
       "<table border=\"1\" class=\"dataframe\">\n",
       "    <thead>\n",
       "        <tr>\n",
       "            <th>Team</th> <th>Wins 15-16</th> <th>Wins 16-17</th>\n",
       "        </tr>\n",
       "    </thead>\n",
       "    <tbody>\n",
       "        <tr>\n",
       "            <td>Atlanta Hawks </td> <td>48        </td> <td>43        </td>\n",
       "        </tr>\n",
       "    </tbody>\n",
       "        <tr>\n",
       "            <td>Boston Celtics</td> <td>48        </td> <td>53        </td>\n",
       "        </tr>\n",
       "    </tbody>\n",
       "        <tr>\n",
       "            <td>Brooklyn Nets </td> <td>21        </td> <td>20        </td>\n",
       "        </tr>\n",
       "    </tbody>\n",
       "</table>\n",
       "<p>... (27 rows omitted)</p"
      ],
      "text/plain": [
       "<IPython.core.display.HTML object>"
      ]
     },
     "metadata": {},
     "output_type": "display_data"
    }
   ],
   "source": [
    "nba_wins = nba.select(0, 1, 4)\n",
    "nba_wins.show(3)"
   ]
  },
  {
   "cell_type": "markdown",
   "metadata": {},
   "source": [
    "## Bootstrap"
   ]
  },
  {
   "cell_type": "code",
   "execution_count": 26,
   "metadata": {},
   "outputs": [],
   "source": [
    "def abs_change(t, label1, label2): \n",
    "    \"\"\"Compute the absolute change between two column. \"\"\"\n",
    "    return np.abs(t.column(label1) - t.column(label2))\n",
    "\n",
    "def test_stat(t): \n",
    "    \"\"\"Compute the test statistic of the test. The average of absolute change. \"\"\"\n",
    "    return np.mean(abs_change(t, 1, 2))\n"
   ]
  },
  {
   "cell_type": "code",
   "execution_count": 27,
   "metadata": {},
   "outputs": [
    {
     "data": {
      "image/png": "[encoded data removed]",
      "text/plain": [
       "<matplotlib.figure.Figure at 0x7fd4463fef60>"
      ]
     },
     "metadata": {},
     "output_type": "display_data"
    }
   ],
   "source": [
    "repetition = 5000\n",
    "mean_changes = []\n",
    "for _ in np.arange(5000): \n",
    "    sample = nba_wins.sample()\n",
    "    mean_change = test_stat(sample)\n",
    "    mean_changes.append(mean_change)\n",
    "Table().with_column('Mean Changes', mean_changes).hist(0)"
   ]
  },
  {
   "cell_type": "markdown",
   "metadata": {},
   "source": [
    "## 95% Confidence Intervel"
   ]
  },
  {
   "cell_type": "code",
   "execution_count": 28,
   "metadata": {},
   "outputs": [
    {
     "name": "stdout",
     "output_type": "stream",
     "text": [
      "A 95% confidence intervel of mean of absolute change in winnings is [4.5, 7.5]\n"
     ]
    }
   ],
   "source": [
    "lower = round(percentile(2.5, mean_changes), 4)\n",
    "upper = round(percentile(97.5, mean_changes), 4)\n",
    "print('A 95% confidence intervel of mean of absolute change in winnings is [{}, {}]'.format(lower, upper) )"
   ]
  },
  {
   "cell_type": "markdown",
   "metadata": {},
   "source": [
    "## Conclusion"
   ]
  },
  {
   "cell_type": "markdown",
   "metadata": {},
   "source": [
    "Based on the test, reject null hypothesis at significance level 0.05. \n",
    "Under null hypothesis, the test statistics equals 0, but the confidence intervel conducted does not contain zero. "
   ]
  },
  {
   "cell_type": "markdown",
   "metadata": {},
   "source": [
    "# Prediction"
   ]
  },
  {
   "cell_type": "markdown",
   "metadata": {},
   "source": [
    "## Linear Regression"
   ]
  },
  {
   "cell_type": "markdown",
   "metadata": {},
   "source": [
    "In this section, I'm interested in the relationship between salary and winnings in 15-16 season. "
   ]
  },
  {
   "cell_type": "code",
   "execution_count": 29,
   "metadata": {},
   "outputs": [
    {
     "data": {
      "text/html": [
       "<table border=\"1\" class=\"dataframe\">\n",
       "    <thead>\n",
       "        <tr>\n",
       "            <th>Team</th> <th>Wins 15-16</th> <th>15-16 Salary</th>\n",
       "        </tr>\n",
       "    </thead>\n",
       "    <tbody>\n",
       "        <tr>\n",
       "            <td>Atlanta Hawks </td> <td>48        </td> <td>69.5731     </td>\n",
       "        </tr>\n",
       "    </tbody>\n",
       "        <tr>\n",
       "            <td>Boston Celtics</td> <td>48        </td> <td>50.2855     </td>\n",
       "        </tr>\n",
       "    </tbody>\n",
       "        <tr>\n",
       "            <td>Brooklyn Nets </td> <td>21        </td> <td>57.307      </td>\n",
       "        </tr>\n",
       "    </tbody>\n",
       "</table>\n",
       "<p>... (27 rows omitted)</p"
      ],
      "text/plain": [
       "<IPython.core.display.HTML object>"
      ]
     },
     "metadata": {},
     "output_type": "display_data"
    }
   ],
   "source": [
    "nba_1516 = nba.select(0, 1, 3)\n",
    "nba_1516.show(3)"
   ]
  },
  {
   "cell_type": "code",
   "execution_count": 30,
   "metadata": {},
   "outputs": [],
   "source": [
    "def standard_units(any_numbers):\n",
    "    \"Convert any array of numbers to standard units.\"\n",
    "    return (any_numbers - np.mean(any_numbers)) / np.std(any_numbers)  \n",
    "\n",
    "def correlation(t, x, y):\n",
    "    \"\"\"Return the correlation coefficient (r) of two variables.\"\"\"\n",
    "    return np.mean(standard_units(t.column(x)) * standard_units(t.column(y)))\n",
    "\n",
    "def slope(t, x, y):\n",
    "    \"\"\"The slope of ther regression line (original units).\"\"\"\n",
    "    r = correlation(t, x, y)\n",
    "    return r * np.std(t.column(y)) / np.std(t.column(x))\n",
    "\n",
    "def intercept(t, x, y):\n",
    "    \"\"\"The intercept of the regression line (original units).\"\"\"\n",
    "    return np.mean(t.column(y)) - slope(t, x, y) * np.mean(t.column(x))\n",
    "\n",
    "def fit(table, x, y):\n",
    "    \"\"\"Return the height of the regression line at each x value.\"\"\"\n",
    "    a = slope(table, x, y)\n",
    "    b = intercept(table, x, y)\n",
    "    return a * table.column(x) + b\n",
    "\n",
    "def plot_residuals(t, x, y):\n",
    "    \"\"\"Plot a scatter diagram and residuals.\"\"\"\n",
    "    t.scatter(x, y, fit_line=True)\n",
    "    actual = t.column(y)\n",
    "    fitted = fit(t, x, y)\n",
    "    residuals = actual - fitted\n",
    "    print('r:', correlation(t, x, y))\n",
    "    print('RMSE:', np.mean(residuals**2)**0.5)\n",
    "    t.select(x).with_column('Residual', residuals).scatter(0, 1)"
   ]
  },
  {
   "cell_type": "code",
   "execution_count": 31,
   "metadata": {},
   "outputs": [
    {
     "name": "stdout",
     "output_type": "stream",
     "text": [
      "r = 0.5267366276966253 \n",
      "slope = 0.4349999269273188 \n",
      "intercept = 10.315139389041178\n"
     ]
    }
   ],
   "source": [
    "r = correlation(nba_1516, 2, 1)\n",
    "slope_1516 = slope(nba_1516, 2, 1)\n",
    "intercept_1516 = intercept(nba_1516, 2, 1)\n",
    "print('r = {} \\nslope = {} \\nintercept = {}'.format(r, slope_1516, intercept_1516))"
   ]
  },
  {
   "cell_type": "code",
   "execution_count": 32,
   "metadata": {},
   "outputs": [
    {
     "name": "stdout",
     "output_type": "stream",
     "text": [
      "r: 0.526736627697\n",
      "RMSE: 11.603226929\n"
     ]
    },
    {
     "data": {
      "image/png": "[encoded data removed]",
      "text/plain": [
       "<matplotlib.figure.Figure at 0x7fd44089bf28>"
      ]
     },
     "metadata": {},
     "output_type": "display_data"
    },
    {
     "data": {
      "image/png": "[encoded data removed]",
      "text/plain": [
       "<matplotlib.figure.Figure at 0x7fd440732ba8>"
      ]
     },
     "metadata": {},
     "output_type": "display_data"
    }
   ],
   "source": [
    "plot_residuals(nba_1516, 2, 1)"
   ]
  },
  {
   "cell_type": "markdown",
   "metadata": {},
   "source": [
    "By looking at the plots above, we can say there is a linear association between number of wins and salary in 15-16 season. In the residual plot, we can see the points above and below zero are about the same, there is no weird shape, and the points look random. "
   ]
  },
  {
   "cell_type": "markdown",
   "metadata": {},
   "source": [
    "## Model"
   ]
  },
  {
   "cell_type": "markdown",
   "metadata": {},
   "source": [
    "My prediction model gives us the height of the regression line plus some rendom error with mean and standard diviation of residuals. "
   ]
  },
  {
   "cell_type": "code",
   "execution_count": 33,
   "metadata": {},
   "outputs": [],
   "source": [
    "def random_error(t, x, y): \n",
    "    \"\"\"Return random errors from normal distribution with mean and standard diviation of residuals. \"\"\"\n",
    "    residuals = fit(t, x, y) - t.column(y)\n",
    "    random_error = np.random.normal(np.mean(residuals), np.std(residuals), len(residuals))\n",
    "    return random_error\n",
    "\n",
    "def my_model(t, x, y): \n",
    "    \"\"\"Return predicted value by summing up the height of the regression line and some random errors. \"\"\"\n",
    "    return fit(t, x, y) + random_error(t, x, y)"
   ]
  },
  {
   "cell_type": "code",
   "execution_count": 34,
   "metadata": {},
   "outputs": [
    {
     "data": {
      "text/html": [
       "<table border=\"1\" class=\"dataframe\">\n",
       "    <thead>\n",
       "        <tr>\n",
       "            <th>Team</th> <th>Wins 15-16</th> <th>15-16 Salary</th> <th>Predicted Wins</th>\n",
       "        </tr>\n",
       "    </thead>\n",
       "    <tbody>\n",
       "        <tr>\n",
       "            <td>Atlanta Hawks        </td> <td>48        </td> <td>69.5731     </td> <td>44.8385       </td>\n",
       "        </tr>\n",
       "    </tbody>\n",
       "        <tr>\n",
       "            <td>Boston Celtics       </td> <td>48        </td> <td>50.2855     </td> <td>31.168        </td>\n",
       "        </tr>\n",
       "    </tbody>\n",
       "        <tr>\n",
       "            <td>Brooklyn Nets        </td> <td>21        </td> <td>57.307      </td> <td>49.1841       </td>\n",
       "        </tr>\n",
       "    </tbody>\n",
       "        <tr>\n",
       "            <td>Charlotte Hornets    </td> <td>48        </td> <td>84.1024     </td> <td>61.0113       </td>\n",
       "        </tr>\n",
       "    </tbody>\n",
       "        <tr>\n",
       "            <td>Chicago Bulls        </td> <td>42        </td> <td>78.8209     </td> <td>24.2055       </td>\n",
       "        </tr>\n",
       "    </tbody>\n",
       "        <tr>\n",
       "            <td>Cleveland Cavaliers  </td> <td>57        </td> <td>102.312     </td> <td>50.9145       </td>\n",
       "        </tr>\n",
       "    </tbody>\n",
       "        <tr>\n",
       "            <td>Dallas Mavericks     </td> <td>42        </td> <td>65.7626     </td> <td>36.6887       </td>\n",
       "        </tr>\n",
       "    </tbody>\n",
       "        <tr>\n",
       "            <td>Denver Nuggets       </td> <td>33        </td> <td>62.4294     </td> <td>40.7841       </td>\n",
       "        </tr>\n",
       "    </tbody>\n",
       "        <tr>\n",
       "            <td>Detroit Pistons      </td> <td>44        </td> <td>42.2118     </td> <td>30.0901       </td>\n",
       "        </tr>\n",
       "    </tbody>\n",
       "        <tr>\n",
       "            <td>Golden State Warriors</td> <td>73        </td> <td>94.0851     </td> <td>43.6093       </td>\n",
       "        </tr>\n",
       "    </tbody>\n",
       "</table>\n",
       "<p>... (20 rows omitted)</p"
      ],
      "text/plain": [
       "Team                  | Wins 15-16 | 15-16 Salary | Predicted Wins\n",
       "Atlanta Hawks         | 48         | 69.5731      | 44.8385\n",
       "Boston Celtics        | 48         | 50.2855      | 31.168\n",
       "Brooklyn Nets         | 21         | 57.307       | 49.1841\n",
       "Charlotte Hornets     | 48         | 84.1024      | 61.0113\n",
       "Chicago Bulls         | 42         | 78.8209      | 24.2055\n",
       "Cleveland Cavaliers   | 57         | 102.312      | 50.9145\n",
       "Dallas Mavericks      | 42         | 65.7626      | 36.6887\n",
       "Denver Nuggets        | 33         | 62.4294      | 40.7841\n",
       "Detroit Pistons       | 44         | 42.2118      | 30.0901\n",
       "Golden State Warriors | 73         | 94.0851      | 43.6093\n",
       "... (20 rows omitted)"
      ]
     },
     "execution_count": 34,
     "metadata": {},
     "output_type": "execute_result"
    }
   ],
   "source": [
    "nba_1516_pred = nba_1516.with_column('Predicted Wins', my_model(nba_1516, 2, 1))\n",
    "nba_1516_pred"
   ]
  },
  {
   "cell_type": "code",
   "execution_count": 35,
   "metadata": {},
   "outputs": [
    {
     "data": {
      "image/png": "[encoded data removed]",
      "text/plain": [
       "<matplotlib.figure.Figure at 0x7fd4406ccdd8>"
      ]
     },
     "metadata": {},
     "output_type": "display_data"
    }
   ],
   "source": [
    "nba_1516_pred.bar('Team', ['Wins 15-16', 'Predicted Wins'])"
   ]
  },
  {
   "cell_type": "markdown",
   "metadata": {},
   "source": [
    "## Conclusion"
   ]
  },
  {
   "cell_type": "markdown",
   "metadata": {},
   "source": [
    "Since the correlation between salary and number of wins is not large, around 0.5267, the prediction based on regression line could be quite off. Therefore, there may be other variables affecting the winnings. "
   ]
  }
 ],
 "metadata": {
  "kernelspec": {
   "display_name": "Python 3",
   "language": "python",
   "name": "python3"
  },
  "language_info": {
   "codemirror_mode": {
    "name": "ipython",
    "version": 3
   },
   "file_extension": ".py",
   "mimetype": "text/x-python",
   "name": "python",
   "nbconvert_exporter": "python",
   "pygments_lexer": "ipython3",
   "version": "3.6.1"
  }
 },
 "nbformat": 4,
 "nbformat_minor": 2
}
